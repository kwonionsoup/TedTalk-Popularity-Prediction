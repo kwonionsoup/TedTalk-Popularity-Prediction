{
 "cells": [
  {
   "cell_type": "markdown",
   "metadata": {},
   "source": [
    "### 1. Read data into dataframe"
   ]
  },
  {
   "cell_type": "code",
   "execution_count": 2,
   "metadata": {},
   "outputs": [
    {
     "name": "stderr",
     "output_type": "stream",
     "text": [
      "C:\\Users\\chris\\AppData\\Local\\Temp\\ipykernel_20140\\2484526919.py:2: DeprecationWarning: \n",
      "Pyarrow will become a required dependency of pandas in the next major release of pandas (pandas 3.0),\n",
      "(to allow more performant data types, such as the Arrow string type, and better interoperability with other libraries)\n",
      "but was not found to be installed on your system.\n",
      "If this would cause problems for you,\n",
      "please provide us feedback at https://github.com/pandas-dev/pandas/issues/54466\n",
      "        \n",
      "  import pandas as pd\n"
     ]
    }
   ],
   "source": [
    "import numpy as np\n",
    "import pandas as pd\n",
    "import json\n",
    "\n",
    "data = pd.read_csv('../data/updated_transcripts_with_emotions_final.csv')\n",
    "\n",
    "# Remove talks with missing transcripts/emotions\n",
    "data = data[~data['detected_emotion'].isna()]"
   ]
  },
  {
   "cell_type": "markdown",
   "metadata": {},
   "source": [
    "### 2. Extract and structure topics and emotions"
   ]
  },
  {
   "cell_type": "code",
   "execution_count": 3,
   "metadata": {},
   "outputs": [
    {
     "data": {
      "text/plain": [
       "[['culture',\n",
       "  'design',\n",
       "  'business',\n",
       "  'entertainment',\n",
       "  'software',\n",
       "  'storytelling',\n",
       "  'communication',\n",
       "  'community'],\n",
       " ['climate change',\n",
       "  'culture',\n",
       "  'environment',\n",
       "  'global issues',\n",
       "  'science',\n",
       "  'sustainability',\n",
       "  'technology',\n",
       "  'transportation',\n",
       "  'renewable energy']]"
      ]
     },
     "execution_count": 3,
     "metadata": {},
     "output_type": "execute_result"
    }
   ],
   "source": [
    "# Extract topics into 2D list\n",
    "topics = [\n",
    "            json.loads(\n",
    "                row.replace(' \\'', ' \\\"').replace('\\',', '\\\",').replace('[\\'', '[\\\"').replace('\\']', '\\\"]')\n",
    "                )\n",
    "                for row in data['topics_list']\n",
    "]\n",
    "topics[:2]"
   ]
  },
  {
   "cell_type": "code",
   "execution_count": 4,
   "metadata": {},
   "outputs": [
    {
     "data": {
      "text/plain": [
       "[['Inspired', 'Moved', 'Sad'],\n",
       " ['Inspired', 'Curious', 'Moved'],\n",
       " ['Curious', 'Informed', 'Impressed'],\n",
       " ['Inspired', 'Moved', 'Informed'],\n",
       " ['Moved', 'Inspired', 'Curious'],\n",
       " ['Inspired', 'Curious', 'Moved'],\n",
       " ['Moved', 'Hopeful', 'Informed'],\n",
       " ['Inspired', 'Hopeful', 'Moved'],\n",
       " ['Informed', 'Curious', 'Hopeful'],\n",
       " ['Inspired', 'Moved', 'Hopeful']]"
      ]
     },
     "execution_count": 4,
     "metadata": {},
     "output_type": "execute_result"
    }
   ],
   "source": [
    "# Extract emotions into 2D list\n",
    "emotions_dicts = [\n",
    "            str(row).replace('\\r\\n', '').replace(' ', '').replace('```', '').replace('json', '')\n",
    "            for row in data['detected_emotion']\n",
    "]\n",
    "emotions = []\n",
    "bad_dicts = []\n",
    "for d in emotions_dicts:\n",
    "    try:\n",
    "        this_emotions = list(json.loads(d).keys())\n",
    "    except:\n",
    "        this_emotions = []\n",
    "        bad_dicts.append(d)\n",
    "    emotions.append(this_emotions)\n",
    "emotions[:10]"
   ]
  },
  {
   "cell_type": "code",
   "execution_count": 5,
   "metadata": {},
   "outputs": [
    {
     "data": {
      "text/plain": [
       "(4983, 4983)"
      ]
     },
     "execution_count": 5,
     "metadata": {},
     "output_type": "execute_result"
    }
   ],
   "source": [
    "len(topics), len(emotions)"
   ]
  },
  {
   "cell_type": "markdown",
   "metadata": {},
   "source": [
    "### 3. Create topic-emotion pairs. These are our \"transactions\"."
   ]
  },
  {
   "cell_type": "code",
   "execution_count": 6,
   "metadata": {},
   "outputs": [
    {
     "name": "stdout",
     "output_type": "stream",
     "text": [
      "Number of Pairs: 110517\n"
     ]
    },
    {
     "data": {
      "text/plain": [
       "[['culture', 'Inspired'],\n",
       " ['culture', 'Moved'],\n",
       " ['culture', 'Sad'],\n",
       " ['design', 'Inspired'],\n",
       " ['design', 'Moved'],\n",
       " ['design', 'Sad'],\n",
       " ['business', 'Inspired'],\n",
       " ['business', 'Moved'],\n",
       " ['business', 'Sad'],\n",
       " ['entertainment', 'Inspired']]"
      ]
     },
     "execution_count": 6,
     "metadata": {},
     "output_type": "execute_result"
    }
   ],
   "source": [
    "pairs = []\n",
    "\n",
    "for talk in range(len(topics)):\n",
    "    talk_topics = topics[talk]\n",
    "    talk_emotions = emotions[talk]\n",
    "\n",
    "    n = len(talk_topics)\n",
    "    m = len(talk_emotions)\n",
    "\n",
    "    if n == 0 or m == 0:\n",
    "        continue\n",
    "\n",
    "    for topic in talk_topics:\n",
    "        for emotion in talk_emotions:\n",
    "            pairs.append([topic, emotion])\n",
    "\n",
    "print(f\"Number of Pairs: {len(pairs)}\")\n",
    "pairs[:10]"
   ]
  },
  {
   "cell_type": "markdown",
   "metadata": {},
   "source": [
    "### 4. Let's run Apriori association rule mining on just the emotions set to explore trends in the emotion mining process."
   ]
  },
  {
   "cell_type": "code",
   "execution_count": 7,
   "metadata": {},
   "outputs": [
    {
     "data": {
      "text/plain": [
       "[['Inspired', 'Moved', 'Sad'],\n",
       " ['Inspired', 'Curious', 'Moved'],\n",
       " ['Curious', 'Informed', 'Impressed'],\n",
       " ['Inspired', 'Moved', 'Informed'],\n",
       " ['Moved', 'Inspired', 'Curious'],\n",
       " ['Inspired', 'Curious', 'Moved'],\n",
       " ['Moved', 'Hopeful', 'Informed'],\n",
       " ['Inspired', 'Hopeful', 'Moved'],\n",
       " ['Informed', 'Curious', 'Hopeful'],\n",
       " ['Inspired', 'Moved', 'Hopeful']]"
      ]
     },
     "execution_count": 7,
     "metadata": {},
     "output_type": "execute_result"
    }
   ],
   "source": [
    "emotions[:10]"
   ]
  },
  {
   "cell_type": "code",
   "execution_count": 8,
   "metadata": {},
   "outputs": [
    {
     "data": {
      "text/plain": [
       "68"
      ]
     },
     "execution_count": 8,
     "metadata": {},
     "output_type": "execute_result"
    }
   ],
   "source": [
    "from association_functions import extract_rules\n",
    "\n",
    "rules, support, confidence, lift = extract_rules(emotions, 0.01, 0.01)\n",
    "df = pd.DataFrame({'Rules': rules, 'Support': support, 'Confidence': confidence})\n",
    "len(df)"
   ]
  },
  {
   "cell_type": "markdown",
   "metadata": {},
   "source": [
    "##### Picking low support and confidence thresholds of 0.01, the number of rules remains a reasonable 68. Let's examine the strongest rules at these thresholds in terms of support and confidence."
   ]
  },
  {
   "cell_type": "code",
   "execution_count": 9,
   "metadata": {},
   "outputs": [
    {
     "data": {
      "text/html": [
       "<div>\n",
       "<style scoped>\n",
       "    .dataframe tbody tr th:only-of-type {\n",
       "        vertical-align: middle;\n",
       "    }\n",
       "\n",
       "    .dataframe tbody tr th {\n",
       "        vertical-align: top;\n",
       "    }\n",
       "\n",
       "    .dataframe thead th {\n",
       "        text-align: right;\n",
       "    }\n",
       "</style>\n",
       "<table border=\"1\" class=\"dataframe\">\n",
       "  <thead>\n",
       "    <tr style=\"text-align: right;\">\n",
       "      <th></th>\n",
       "      <th>Rules</th>\n",
       "      <th>Support</th>\n",
       "      <th>Confidence</th>\n",
       "    </tr>\n",
       "  </thead>\n",
       "  <tbody>\n",
       "    <tr>\n",
       "      <th>6</th>\n",
       "      <td>[Inspired]</td>\n",
       "      <td>0.898455</td>\n",
       "      <td>0.898455</td>\n",
       "    </tr>\n",
       "    <tr>\n",
       "      <th>1</th>\n",
       "      <td>[Curious]</td>\n",
       "      <td>0.626330</td>\n",
       "      <td>0.626330</td>\n",
       "    </tr>\n",
       "    <tr>\n",
       "      <th>25</th>\n",
       "      <td>[Inspired, Curious]</td>\n",
       "      <td>0.562713</td>\n",
       "      <td>0.626312</td>\n",
       "    </tr>\n",
       "    <tr>\n",
       "      <th>24</th>\n",
       "      <td>[Curious, Inspired]</td>\n",
       "      <td>0.562713</td>\n",
       "      <td>0.898430</td>\n",
       "    </tr>\n",
       "    <tr>\n",
       "      <th>7</th>\n",
       "      <td>[Moved]</td>\n",
       "      <td>0.511339</td>\n",
       "      <td>0.511339</td>\n",
       "    </tr>\n",
       "    <tr>\n",
       "      <th>59</th>\n",
       "      <td>[Moved, Inspired]</td>\n",
       "      <td>0.465182</td>\n",
       "      <td>0.909733</td>\n",
       "    </tr>\n",
       "    <tr>\n",
       "      <th>58</th>\n",
       "      <td>[Inspired, Moved]</td>\n",
       "      <td>0.465182</td>\n",
       "      <td>0.517757</td>\n",
       "    </tr>\n",
       "    <tr>\n",
       "      <th>3</th>\n",
       "      <td>[Hopeful]</td>\n",
       "      <td>0.338551</td>\n",
       "      <td>0.338551</td>\n",
       "    </tr>\n",
       "    <tr>\n",
       "      <th>43</th>\n",
       "      <td>[Inspired, Hopeful]</td>\n",
       "      <td>0.300221</td>\n",
       "      <td>0.334152</td>\n",
       "    </tr>\n",
       "    <tr>\n",
       "      <th>42</th>\n",
       "      <td>[Hopeful, Inspired]</td>\n",
       "      <td>0.300221</td>\n",
       "      <td>0.886781</td>\n",
       "    </tr>\n",
       "    <tr>\n",
       "      <th>5</th>\n",
       "      <td>[Informed]</td>\n",
       "      <td>0.238009</td>\n",
       "      <td>0.238009</td>\n",
       "    </tr>\n",
       "    <tr>\n",
       "      <th>27</th>\n",
       "      <td>[Moved, Curious]</td>\n",
       "      <td>0.233996</td>\n",
       "      <td>0.457614</td>\n",
       "    </tr>\n",
       "    <tr>\n",
       "      <th>26</th>\n",
       "      <td>[Curious, Moved]</td>\n",
       "      <td>0.233996</td>\n",
       "      <td>0.373598</td>\n",
       "    </tr>\n",
       "    <tr>\n",
       "      <th>4</th>\n",
       "      <td>[Impressed]</td>\n",
       "      <td>0.226771</td>\n",
       "      <td>0.226771</td>\n",
       "    </tr>\n",
       "    <tr>\n",
       "      <th>53</th>\n",
       "      <td>[Inspired, Informed]</td>\n",
       "      <td>0.169376</td>\n",
       "      <td>0.188519</td>\n",
       "    </tr>\n",
       "  </tbody>\n",
       "</table>\n",
       "</div>"
      ],
      "text/plain": [
       "                   Rules   Support  Confidence\n",
       "6             [Inspired]  0.898455    0.898455\n",
       "1              [Curious]  0.626330    0.626330\n",
       "25   [Inspired, Curious]  0.562713    0.626312\n",
       "24   [Curious, Inspired]  0.562713    0.898430\n",
       "7                [Moved]  0.511339    0.511339\n",
       "59     [Moved, Inspired]  0.465182    0.909733\n",
       "58     [Inspired, Moved]  0.465182    0.517757\n",
       "3              [Hopeful]  0.338551    0.338551\n",
       "43   [Inspired, Hopeful]  0.300221    0.334152\n",
       "42   [Hopeful, Inspired]  0.300221    0.886781\n",
       "5             [Informed]  0.238009    0.238009\n",
       "27      [Moved, Curious]  0.233996    0.457614\n",
       "26      [Curious, Moved]  0.233996    0.373598\n",
       "4            [Impressed]  0.226771    0.226771\n",
       "53  [Inspired, Informed]  0.169376    0.188519"
      ]
     },
     "execution_count": 9,
     "metadata": {},
     "output_type": "execute_result"
    }
   ],
   "source": [
    "df.sort_values(by=['Support'], ascending=False).head(15)"
   ]
  },
  {
   "cell_type": "code",
   "execution_count": 10,
   "metadata": {},
   "outputs": [
    {
     "data": {
      "text/html": [
       "<div>\n",
       "<style scoped>\n",
       "    .dataframe tbody tr th:only-of-type {\n",
       "        vertical-align: middle;\n",
       "    }\n",
       "\n",
       "    .dataframe tbody tr th {\n",
       "        vertical-align: top;\n",
       "    }\n",
       "\n",
       "    .dataframe thead th {\n",
       "        text-align: right;\n",
       "    }\n",
       "</style>\n",
       "<table border=\"1\" class=\"dataframe\">\n",
       "  <thead>\n",
       "    <tr style=\"text-align: right;\">\n",
       "      <th></th>\n",
       "      <th>Rules</th>\n",
       "      <th>Support</th>\n",
       "      <th>Confidence</th>\n",
       "    </tr>\n",
       "  </thead>\n",
       "  <tbody>\n",
       "    <tr>\n",
       "      <th>34</th>\n",
       "      <td>[Fulfilled, Inspired]</td>\n",
       "      <td>0.053783</td>\n",
       "      <td>0.964029</td>\n",
       "    </tr>\n",
       "    <tr>\n",
       "      <th>14</th>\n",
       "      <td>[Amused, Inspired]</td>\n",
       "      <td>0.051174</td>\n",
       "      <td>0.930657</td>\n",
       "    </tr>\n",
       "    <tr>\n",
       "      <th>59</th>\n",
       "      <td>[Moved, Inspired]</td>\n",
       "      <td>0.465182</td>\n",
       "      <td>0.909733</td>\n",
       "    </tr>\n",
       "    <tr>\n",
       "      <th>6</th>\n",
       "      <td>[Inspired]</td>\n",
       "      <td>0.898455</td>\n",
       "      <td>0.898455</td>\n",
       "    </tr>\n",
       "    <tr>\n",
       "      <th>24</th>\n",
       "      <td>[Curious, Inspired]</td>\n",
       "      <td>0.562713</td>\n",
       "      <td>0.898430</td>\n",
       "    </tr>\n",
       "    <tr>\n",
       "      <th>42</th>\n",
       "      <td>[Hopeful, Inspired]</td>\n",
       "      <td>0.300221</td>\n",
       "      <td>0.886781</td>\n",
       "    </tr>\n",
       "    <tr>\n",
       "      <th>63</th>\n",
       "      <td>[Surprised, Inspired]</td>\n",
       "      <td>0.029902</td>\n",
       "      <td>0.856322</td>\n",
       "    </tr>\n",
       "    <tr>\n",
       "      <th>61</th>\n",
       "      <td>[Sad, Inspired]</td>\n",
       "      <td>0.030504</td>\n",
       "      <td>0.808511</td>\n",
       "    </tr>\n",
       "    <tr>\n",
       "      <th>10</th>\n",
       "      <td>[Amused, Curious]</td>\n",
       "      <td>0.042745</td>\n",
       "      <td>0.777372</td>\n",
       "    </tr>\n",
       "    <tr>\n",
       "      <th>48</th>\n",
       "      <td>[Impressed, Inspired]</td>\n",
       "      <td>0.168975</td>\n",
       "      <td>0.745133</td>\n",
       "    </tr>\n",
       "    <tr>\n",
       "      <th>52</th>\n",
       "      <td>[Informed, Inspired]</td>\n",
       "      <td>0.169376</td>\n",
       "      <td>0.711636</td>\n",
       "    </tr>\n",
       "    <tr>\n",
       "      <th>31</th>\n",
       "      <td>[Surprised, Curious]</td>\n",
       "      <td>0.023681</td>\n",
       "      <td>0.678161</td>\n",
       "    </tr>\n",
       "    <tr>\n",
       "      <th>1</th>\n",
       "      <td>[Curious]</td>\n",
       "      <td>0.626330</td>\n",
       "      <td>0.626330</td>\n",
       "    </tr>\n",
       "    <tr>\n",
       "      <th>25</th>\n",
       "      <td>[Inspired, Curious]</td>\n",
       "      <td>0.562713</td>\n",
       "      <td>0.626312</td>\n",
       "    </tr>\n",
       "    <tr>\n",
       "      <th>65</th>\n",
       "      <td>[Sad, Moved]</td>\n",
       "      <td>0.022677</td>\n",
       "      <td>0.601064</td>\n",
       "    </tr>\n",
       "  </tbody>\n",
       "</table>\n",
       "</div>"
      ],
      "text/plain": [
       "                    Rules   Support  Confidence\n",
       "34  [Fulfilled, Inspired]  0.053783    0.964029\n",
       "14     [Amused, Inspired]  0.051174    0.930657\n",
       "59      [Moved, Inspired]  0.465182    0.909733\n",
       "6              [Inspired]  0.898455    0.898455\n",
       "24    [Curious, Inspired]  0.562713    0.898430\n",
       "42    [Hopeful, Inspired]  0.300221    0.886781\n",
       "63  [Surprised, Inspired]  0.029902    0.856322\n",
       "61        [Sad, Inspired]  0.030504    0.808511\n",
       "10      [Amused, Curious]  0.042745    0.777372\n",
       "48  [Impressed, Inspired]  0.168975    0.745133\n",
       "52   [Informed, Inspired]  0.169376    0.711636\n",
       "31   [Surprised, Curious]  0.023681    0.678161\n",
       "1               [Curious]  0.626330    0.626330\n",
       "25    [Inspired, Curious]  0.562713    0.626312\n",
       "65           [Sad, Moved]  0.022677    0.601064"
      ]
     },
     "execution_count": 10,
     "metadata": {},
     "output_type": "execute_result"
    }
   ],
   "source": [
    "df.sort_values(by=['Confidence'], ascending=False).head(15)"
   ]
  },
  {
   "cell_type": "markdown",
   "metadata": {},
   "source": [
    "##### The 'Inspired' emotion is by far the dominant emotion, being a top 3 emotion in almost 90% of the TED Talks. The prevalence of the 'Inspired' emotion also affects which rules have the highest confidence. If we start with any other top emotion, the chance of 'Inspired' also being a top emotion is high simply due to the fact that most TED Talks have 'Inspired' as an emotion. Thus, it is expected that rules of the form (emotion &rarr; 'Inspired') will have high confidence.\n",
    "\n",
    "##### The dominance of 'Inspired' will also affect the confidence of (topic &rarr; emotion) rules in a similar manner, so our analysis must account for that. That is, high confidence of (topic &rarr; 'Inspired') rules may be more indicative of the nature of the dataset rather than the relationship between topic and emotion."
   ]
  },
  {
   "cell_type": "markdown",
   "metadata": {},
   "source": [
    "### 5. Now let's run Apriori association rule mining on (topic, emotion) pairs to explore relationships between topics and emotions."
   ]
  },
  {
   "cell_type": "code",
   "execution_count": 11,
   "metadata": {},
   "outputs": [
    {
     "data": {
      "text/plain": [
       "[['culture', 'Inspired'],\n",
       " ['culture', 'Moved'],\n",
       " ['culture', 'Sad'],\n",
       " ['design', 'Inspired'],\n",
       " ['design', 'Moved'],\n",
       " ['design', 'Sad'],\n",
       " ['business', 'Inspired'],\n",
       " ['business', 'Moved'],\n",
       " ['business', 'Sad'],\n",
       " ['entertainment', 'Inspired']]"
      ]
     },
     "execution_count": 11,
     "metadata": {},
     "output_type": "execute_result"
    }
   ],
   "source": [
    "pairs[:10]"
   ]
  },
  {
   "cell_type": "markdown",
   "metadata": {},
   "source": [
    "##### To determine reasonable support and confidence thresholds for our association rule mining model, let's plot the number of rules generated at various thresholds and examine the elbows."
   ]
  },
  {
   "cell_type": "code",
   "execution_count": 27,
   "metadata": {},
   "outputs": [
    {
     "data": {
      "text/plain": [
       "<matplotlib.legend.Legend at 0x1fd17845610>"
      ]
     },
     "execution_count": 27,
     "metadata": {},
     "output_type": "execute_result"
    },
    {
     "data": {
      "image/png": "[encoded data removed]",
      "text/plain": [
       "<Figure size 640x480 with 1 Axes>"
      ]
     },
     "metadata": {},
     "output_type": "display_data"
    }
   ],
   "source": [
    "import matplotlib.pyplot as plot\n",
    "\n",
    "support = np.arange(0.001, 0.04, 0.001)\n",
    "rules0 = np.empty_like(support)\n",
    "rules1 = np.empty_like(support)\n",
    "for i, sup in enumerate(support):\n",
    "    rules0[i] = len(extract_rules(pairs, sthresh = sup, cthresh = 0)[0])\n",
    "    rules1[i] = len(extract_rules(pairs, sthresh = sup, cthresh = 0.1)[0])\n",
    "\n",
    "plot.plot(support, rules0, label='Confidence >= 0')\n",
    "plot.plot(support, rules1, label='Confidence >= 0.1')\n",
    "plot.xlabel('Support Threshold')\n",
    "plot.ylabel('Number of rules found')\n",
    "plot.legend()"
   ]
  },
  {
   "cell_type": "code",
   "execution_count": 31,
   "metadata": {},
   "outputs": [
    {
     "data": {
      "text/plain": [
       "<matplotlib.legend.Legend at 0x1fd1784ea50>"
      ]
     },
     "execution_count": 31,
     "metadata": {},
     "output_type": "execute_result"
    },
    {
     "data": {
      "image/png": "[encoded data removed]",
      "text/plain": [
       "<Figure size 640x480 with 1 Axes>"
      ]
     },
     "metadata": {},
     "output_type": "display_data"
    }
   ],
   "source": [
    "confidence = np.arange(0.01, 0.4, 0.01)\n",
    "rules0 = np.empty_like(confidence)\n",
    "rules1 = np.empty_like(confidence)\n",
    "for i, conf in enumerate(confidence):\n",
    "    rules0[i] = len(extract_rules(pairs, sthresh = 0.002, cthresh = conf)[0])\n",
    "    rules1[i] = len(extract_rules(pairs, sthresh = 0.003, cthresh = conf)[0])\n",
    "\n",
    "plot.plot(confidence, rules0, label='Support >= 0.002')\n",
    "plot.plot(confidence, rules1, label='Support >= 0.003')\n",
    "plot.xlabel('Confidence Threshold')\n",
    "plot.ylabel('Number of rules found')\n",
    "plot.legend()"
   ]
  },
  {
   "cell_type": "markdown",
   "metadata": {},
   "source": [
    "##### Examining the elbows of each graph, a support threshold of 0.0025 and a confidence threshold of 0.05 produce a reasonable number of rules."
   ]
  },
  {
   "cell_type": "code",
   "execution_count": 32,
   "metadata": {},
   "outputs": [
    {
     "data": {
      "text/plain": [
       "63"
      ]
     },
     "execution_count": 32,
     "metadata": {},
     "output_type": "execute_result"
    }
   ],
   "source": [
    "rules, support, confidence, lift = extract_rules(pairs, 0.0025, 0.05, True)\n",
    "df = pd.DataFrame({'Rules': rules, 'Support': support, 'Confidence': confidence})\n",
    "len(df)"
   ]
  },
  {
   "cell_type": "code",
   "execution_count": 34,
   "metadata": {},
   "outputs": [
    {
     "data": {
      "text/html": [
       "<div>\n",
       "<style scoped>\n",
       "    .dataframe tbody tr th:only-of-type {\n",
       "        vertical-align: middle;\n",
       "    }\n",
       "\n",
       "    .dataframe tbody tr th {\n",
       "        vertical-align: top;\n",
       "    }\n",
       "\n",
       "    .dataframe thead th {\n",
       "        text-align: right;\n",
       "    }\n",
       "</style>\n",
       "<table border=\"1\" class=\"dataframe\">\n",
       "  <thead>\n",
       "    <tr style=\"text-align: right;\">\n",
       "      <th></th>\n",
       "      <th>Rules</th>\n",
       "      <th>Support</th>\n",
       "      <th>Confidence</th>\n",
       "    </tr>\n",
       "  </thead>\n",
       "  <tbody>\n",
       "    <tr>\n",
       "      <th>46</th>\n",
       "      <td>[science, Inspired]</td>\n",
       "      <td>0.009564</td>\n",
       "      <td>0.288798</td>\n",
       "    </tr>\n",
       "    <tr>\n",
       "      <th>50</th>\n",
       "      <td>[technology, Inspired]</td>\n",
       "      <td>0.009184</td>\n",
       "      <td>0.303166</td>\n",
       "    </tr>\n",
       "    <tr>\n",
       "      <th>12</th>\n",
       "      <td>[science, Curious]</td>\n",
       "      <td>0.008352</td>\n",
       "      <td>0.252186</td>\n",
       "    </tr>\n",
       "    <tr>\n",
       "      <th>14</th>\n",
       "      <td>[technology, Curious]</td>\n",
       "      <td>0.007546</td>\n",
       "      <td>0.249104</td>\n",
       "    </tr>\n",
       "    <tr>\n",
       "      <th>23</th>\n",
       "      <td>[TED-Ed, Inspired]</td>\n",
       "      <td>0.006985</td>\n",
       "      <td>0.285820</td>\n",
       "    </tr>\n",
       "    <tr>\n",
       "      <th>26</th>\n",
       "      <td>[animation, Inspired]</td>\n",
       "      <td>0.006433</td>\n",
       "      <td>0.289377</td>\n",
       "    </tr>\n",
       "    <tr>\n",
       "      <th>34</th>\n",
       "      <td>[culture, Inspired]</td>\n",
       "      <td>0.006415</td>\n",
       "      <td>0.301574</td>\n",
       "    </tr>\n",
       "    <tr>\n",
       "      <th>0</th>\n",
       "      <td>[TED-Ed, Curious]</td>\n",
       "      <td>0.006271</td>\n",
       "      <td>0.256572</td>\n",
       "    </tr>\n",
       "    <tr>\n",
       "      <th>36</th>\n",
       "      <td>[education, Inspired]</td>\n",
       "      <td>0.005872</td>\n",
       "      <td>0.291031</td>\n",
       "    </tr>\n",
       "    <tr>\n",
       "      <th>2</th>\n",
       "      <td>[animation, Curious]</td>\n",
       "      <td>0.005746</td>\n",
       "      <td>0.258445</td>\n",
       "    </tr>\n",
       "    <tr>\n",
       "      <th>24</th>\n",
       "      <td>[TEDx, Inspired]</td>\n",
       "      <td>0.005447</td>\n",
       "      <td>0.291103</td>\n",
       "    </tr>\n",
       "    <tr>\n",
       "      <th>48</th>\n",
       "      <td>[society, Inspired]</td>\n",
       "      <td>0.005221</td>\n",
       "      <td>0.301463</td>\n",
       "    </tr>\n",
       "    <tr>\n",
       "      <th>47</th>\n",
       "      <td>[social change, Inspired]</td>\n",
       "      <td>0.005194</td>\n",
       "      <td>0.306133</td>\n",
       "    </tr>\n",
       "    <tr>\n",
       "      <th>40</th>\n",
       "      <td>[global issues, Inspired]</td>\n",
       "      <td>0.004986</td>\n",
       "      <td>0.290153</td>\n",
       "    </tr>\n",
       "    <tr>\n",
       "      <th>35</th>\n",
       "      <td>[design, Inspired]</td>\n",
       "      <td>0.004805</td>\n",
       "      <td>0.314947</td>\n",
       "    </tr>\n",
       "  </tbody>\n",
       "</table>\n",
       "</div>"
      ],
      "text/plain": [
       "                        Rules   Support  Confidence\n",
       "46        [science, Inspired]  0.009564    0.288798\n",
       "50     [technology, Inspired]  0.009184    0.303166\n",
       "12         [science, Curious]  0.008352    0.252186\n",
       "14      [technology, Curious]  0.007546    0.249104\n",
       "23         [TED-Ed, Inspired]  0.006985    0.285820\n",
       "26      [animation, Inspired]  0.006433    0.289377\n",
       "34        [culture, Inspired]  0.006415    0.301574\n",
       "0           [TED-Ed, Curious]  0.006271    0.256572\n",
       "36      [education, Inspired]  0.005872    0.291031\n",
       "2        [animation, Curious]  0.005746    0.258445\n",
       "24           [TEDx, Inspired]  0.005447    0.291103\n",
       "48        [society, Inspired]  0.005221    0.301463\n",
       "47  [social change, Inspired]  0.005194    0.306133\n",
       "40  [global issues, Inspired]  0.004986    0.290153\n",
       "35         [design, Inspired]  0.004805    0.314947"
      ]
     },
     "execution_count": 34,
     "metadata": {},
     "output_type": "execute_result"
    }
   ],
   "source": [
    "df.sort_values(by=['Support'], ascending=False).head(15)"
   ]
  },
  {
   "cell_type": "code",
   "execution_count": 36,
   "metadata": {},
   "outputs": [
    {
     "data": {
      "text/html": [
       "<div>\n",
       "<style scoped>\n",
       "    .dataframe tbody tr th:only-of-type {\n",
       "        vertical-align: middle;\n",
       "    }\n",
       "\n",
       "    .dataframe tbody tr th {\n",
       "        vertical-align: top;\n",
       "    }\n",
       "\n",
       "    .dataframe thead th {\n",
       "        text-align: right;\n",
       "    }\n",
       "</style>\n",
       "<table border=\"1\" class=\"dataframe\">\n",
       "  <thead>\n",
       "    <tr style=\"text-align: right;\">\n",
       "      <th></th>\n",
       "      <th>Rules</th>\n",
       "      <th>Support</th>\n",
       "      <th>Confidence</th>\n",
       "    </tr>\n",
       "  </thead>\n",
       "  <tbody>\n",
       "    <tr>\n",
       "      <th>33</th>\n",
       "      <td>[creativity, Inspired]</td>\n",
       "      <td>0.003113</td>\n",
       "      <td>0.315018</td>\n",
       "    </tr>\n",
       "    <tr>\n",
       "      <th>35</th>\n",
       "      <td>[design, Inspired]</td>\n",
       "      <td>0.004805</td>\n",
       "      <td>0.314947</td>\n",
       "    </tr>\n",
       "    <tr>\n",
       "      <th>25</th>\n",
       "      <td>[activism, Inspired]</td>\n",
       "      <td>0.002850</td>\n",
       "      <td>0.312500</td>\n",
       "    </tr>\n",
       "    <tr>\n",
       "      <th>27</th>\n",
       "      <td>[art, Inspired]</td>\n",
       "      <td>0.003185</td>\n",
       "      <td>0.311780</td>\n",
       "    </tr>\n",
       "    <tr>\n",
       "      <th>39</th>\n",
       "      <td>[future, Inspired]</td>\n",
       "      <td>0.003257</td>\n",
       "      <td>0.311688</td>\n",
       "    </tr>\n",
       "    <tr>\n",
       "      <th>45</th>\n",
       "      <td>[personal growth, Inspired]</td>\n",
       "      <td>0.002651</td>\n",
       "      <td>0.309725</td>\n",
       "    </tr>\n",
       "    <tr>\n",
       "      <th>49</th>\n",
       "      <td>[sustainability, Inspired]</td>\n",
       "      <td>0.002515</td>\n",
       "      <td>0.308889</td>\n",
       "    </tr>\n",
       "    <tr>\n",
       "      <th>29</th>\n",
       "      <td>[business, Inspired]</td>\n",
       "      <td>0.004398</td>\n",
       "      <td>0.308571</td>\n",
       "    </tr>\n",
       "    <tr>\n",
       "      <th>44</th>\n",
       "      <td>[innovation, Inspired]</td>\n",
       "      <td>0.003837</td>\n",
       "      <td>0.307692</td>\n",
       "    </tr>\n",
       "    <tr>\n",
       "      <th>47</th>\n",
       "      <td>[social change, Inspired]</td>\n",
       "      <td>0.005194</td>\n",
       "      <td>0.306133</td>\n",
       "    </tr>\n",
       "    <tr>\n",
       "      <th>30</th>\n",
       "      <td>[climate change, Inspired]</td>\n",
       "      <td>0.002923</td>\n",
       "      <td>0.305871</td>\n",
       "    </tr>\n",
       "    <tr>\n",
       "      <th>50</th>\n",
       "      <td>[technology, Inspired]</td>\n",
       "      <td>0.009184</td>\n",
       "      <td>0.303166</td>\n",
       "    </tr>\n",
       "    <tr>\n",
       "      <th>31</th>\n",
       "      <td>[communication, Inspired]</td>\n",
       "      <td>0.003366</td>\n",
       "      <td>0.301703</td>\n",
       "    </tr>\n",
       "    <tr>\n",
       "      <th>34</th>\n",
       "      <td>[culture, Inspired]</td>\n",
       "      <td>0.006415</td>\n",
       "      <td>0.301574</td>\n",
       "    </tr>\n",
       "    <tr>\n",
       "      <th>38</th>\n",
       "      <td>[environment, Inspired]</td>\n",
       "      <td>0.002832</td>\n",
       "      <td>0.301541</td>\n",
       "    </tr>\n",
       "  </tbody>\n",
       "</table>\n",
       "</div>"
      ],
      "text/plain": [
       "                          Rules   Support  Confidence\n",
       "33       [creativity, Inspired]  0.003113    0.315018\n",
       "35           [design, Inspired]  0.004805    0.314947\n",
       "25         [activism, Inspired]  0.002850    0.312500\n",
       "27              [art, Inspired]  0.003185    0.311780\n",
       "39           [future, Inspired]  0.003257    0.311688\n",
       "45  [personal growth, Inspired]  0.002651    0.309725\n",
       "49   [sustainability, Inspired]  0.002515    0.308889\n",
       "29         [business, Inspired]  0.004398    0.308571\n",
       "44       [innovation, Inspired]  0.003837    0.307692\n",
       "47    [social change, Inspired]  0.005194    0.306133\n",
       "30   [climate change, Inspired]  0.002923    0.305871\n",
       "50       [technology, Inspired]  0.009184    0.303166\n",
       "31    [communication, Inspired]  0.003366    0.301703\n",
       "34          [culture, Inspired]  0.006415    0.301574\n",
       "38      [environment, Inspired]  0.002832    0.301541"
      ]
     },
     "execution_count": 36,
     "metadata": {},
     "output_type": "execute_result"
    }
   ],
   "source": [
    "df.sort_values(by=['Confidence'], ascending=False).head(15)"
   ]
  },
  {
   "cell_type": "markdown",
   "metadata": {},
   "source": [
    "### Examining the results, the strongest rules simply map the most prevalent topics to 'Inspired' and sometimes 'Curious'. One can assume that this pattern continues to the less common topics. Those two emotions are simply so much more dominant than the others that given any topic, it is likely that 'Inspired' will always be the most dominant emotion. The severely imbalanced nature of the dataset may pose an issue when trying to train a classifier model to predict the emotion of a TED Talk. A classifier that maps every TED Talk to 'Inspired' may demonstrate a misleadingly high accuracy, despite completely ignoring all the other emotions. Possible solutions may include oversampling TED Talks that do not exhibit the 'Inspired' emotion, or completely removing 'Inspired' from the set of emotions and instead classifying TED Talks by the remaining emotions."
   ]
  }
 ],
 "metadata": {
  "kernelspec": {
   "display_name": "Python 3",
   "language": "python",
   "name": "python3"
  },
  "language_info": {
   "codemirror_mode": {
    "name": "ipython",
    "version": 3
   },
   "file_extension": ".py",
   "mimetype": "text/x-python",
   "name": "python",
   "nbconvert_exporter": "python",
   "pygments_lexer": "ipython3",
   "version": "3.12.1"
  }
 },
 "nbformat": 4,
 "nbformat_minor": 2
}
