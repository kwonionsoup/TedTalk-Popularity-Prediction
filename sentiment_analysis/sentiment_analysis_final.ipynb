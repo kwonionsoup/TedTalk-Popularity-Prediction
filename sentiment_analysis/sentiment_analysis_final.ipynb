{
 "cells": [
  {
   "cell_type": "code",
   "execution_count": null,
   "id": "822ff1b8",
   "metadata": {},
   "outputs": [],
   "source": [
    "import requests\n",
    "from bs4 import BeautifulSoup\n",
    "import pandas as pd\n",
    "from textblob import TextBlob\n",
    "import nltk\n",
    "nltk.download('vader_lexicon')\n",
    "from nltk.corpus import stopwords\n",
    "from nltk.sentiment.vader import SentimentIntensityAnalyzer"
   ]
  },
  {
   "cell_type": "code",
   "execution_count": null,
   "id": "5ccde804",
   "metadata": {},
   "outputs": [],
   "source": [
    "# textblob algorithm\n",
    "def analyze_sentiment(text):\n",
    "    try:\n",
    "        blob = TextBlob(text)\n",
    "        sentiment_score = blob.sentiment.polarity\n",
    "        return sentiment_score\n",
    "    except:\n",
    "        sentiment_score = 0\n",
    "        return sentiment_score"
   ]
  },
  {
   "cell_type": "code",
   "execution_count": null,
   "id": "0300a67c",
   "metadata": {},
   "outputs": [],
   "source": [
    "# vader algorithm\n",
    "sid = SentimentIntensityAnalyzer()"
   ]
  },
  {
   "cell_type": "code",
   "execution_count": null,
   "id": "f49bfc14",
   "metadata": {},
   "outputs": [],
   "source": [
    "# apply textblob algorithm to df and create new column for tb score\n",
    "df['tb_score'] = df['transcript'].apply(analyze_sentiment)\n",
    "\n",
    "# apply vader algorithm to df and create new column for vader score\n",
    "df['vd_score'] = df['transcript'].apply(lambda comments:sid.polarity_scores(str(comments))['compound'])"
   ]
  }
 ],
 "metadata": {
  "kernelspec": {
   "display_name": "Python 3 (ipykernel)",
   "language": "python",
   "name": "python3"
  },
  "language_info": {
   "codemirror_mode": {
    "name": "ipython",
    "version": 3
   },
   "file_extension": ".py",
   "mimetype": "text/x-python",
   "name": "python",
   "nbconvert_exporter": "python",
   "pygments_lexer": "ipython3",
   "version": "3.11.5"
  }
 },
 "nbformat": 4,
 "nbformat_minor": 5
}
